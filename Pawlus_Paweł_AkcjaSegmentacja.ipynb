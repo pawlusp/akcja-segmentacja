{
 "cells": [
  {
   "cell_type": "code",
   "execution_count": 1,
   "id": "713644d5",
   "metadata": {},
   "outputs": [],
   "source": [
    "import pandas as pd\n",
    "import matplotlib.pyplot as plt\n",
    "import seaborn as sns\n",
    "from sklearn.preprocessing import StandardScaler\n",
    "from scipy.cluster.hierarchy import dendrogram, linkage\n",
    "from sklearn.cluster import KMeans\n",
    "import warnings\n",
    "import numpy as np\n",
    "warnings.simplefilter(action='ignore', category=FutureWarning)"
   ]
  },
  {
   "cell_type": "markdown",
   "id": "60a47fec",
   "metadata": {},
   "source": [
    "# Data load "
   ]
  },
  {
   "cell_type": "code",
   "execution_count": 2,
   "id": "ca370132",
   "metadata": {},
   "outputs": [],
   "source": [
    "data = pd.read_csv('Customers.csv', sep=';',decimal=',')"
   ]
  },
  {
   "cell_type": "code",
   "execution_count": 3,
   "id": "a084cf06",
   "metadata": {},
   "outputs": [
    {
     "data": {
      "text/html": [
       "<div>\n",
       "<style scoped>\n",
       "    .dataframe tbody tr th:only-of-type {\n",
       "        vertical-align: middle;\n",
       "    }\n",
       "\n",
       "    .dataframe tbody tr th {\n",
       "        vertical-align: top;\n",
       "    }\n",
       "\n",
       "    .dataframe thead th {\n",
       "        text-align: right;\n",
       "    }\n",
       "</style>\n",
       "<table border=\"1\" class=\"dataframe\">\n",
       "  <thead>\n",
       "    <tr style=\"text-align: right;\">\n",
       "      <th></th>\n",
       "      <th>CustomerId</th>\n",
       "      <th>Profit</th>\n",
       "      <th>Recency</th>\n",
       "      <th>Frequency</th>\n",
       "      <th>Monetary</th>\n",
       "      <th>Variance</th>\n",
       "    </tr>\n",
       "  </thead>\n",
       "  <tbody>\n",
       "    <tr>\n",
       "      <th>1506</th>\n",
       "      <td>1507</td>\n",
       "      <td>174</td>\n",
       "      <td>18</td>\n",
       "      <td>3</td>\n",
       "      <td>15798.92</td>\n",
       "      <td>17</td>\n",
       "    </tr>\n",
       "    <tr>\n",
       "      <th>1507</th>\n",
       "      <td>1508</td>\n",
       "      <td>124</td>\n",
       "      <td>28</td>\n",
       "      <td>12</td>\n",
       "      <td>2676.89</td>\n",
       "      <td>7</td>\n",
       "    </tr>\n",
       "    <tr>\n",
       "      <th>1508</th>\n",
       "      <td>1509</td>\n",
       "      <td>1543</td>\n",
       "      <td>4</td>\n",
       "      <td>17</td>\n",
       "      <td>109497.54</td>\n",
       "      <td>54</td>\n",
       "    </tr>\n",
       "    <tr>\n",
       "      <th>1509</th>\n",
       "      <td>1510</td>\n",
       "      <td>668</td>\n",
       "      <td>1</td>\n",
       "      <td>3</td>\n",
       "      <td>49602.45</td>\n",
       "      <td>17</td>\n",
       "    </tr>\n",
       "    <tr>\n",
       "      <th>1510</th>\n",
       "      <td>1511</td>\n",
       "      <td>82</td>\n",
       "      <td>35</td>\n",
       "      <td>4</td>\n",
       "      <td>1047.58</td>\n",
       "      <td>6</td>\n",
       "    </tr>\n",
       "  </tbody>\n",
       "</table>\n",
       "</div>"
      ],
      "text/plain": [
       "      CustomerId  Profit  Recency  Frequency   Monetary  Variance\n",
       "1506        1507     174       18          3   15798.92        17\n",
       "1507        1508     124       28         12    2676.89         7\n",
       "1508        1509    1543        4         17  109497.54        54\n",
       "1509        1510     668        1          3   49602.45        17\n",
       "1510        1511      82       35          4    1047.58         6"
      ]
     },
     "execution_count": 3,
     "metadata": {},
     "output_type": "execute_result"
    }
   ],
   "source": [
    "data.tail()"
   ]
  },
  {
   "cell_type": "code",
   "execution_count": 4,
   "id": "27d73f28",
   "metadata": {},
   "outputs": [
    {
     "data": {
      "text/plain": [
       "(1511, 6)"
      ]
     },
     "execution_count": 4,
     "metadata": {},
     "output_type": "execute_result"
    }
   ],
   "source": [
    "data.shape"
   ]
  },
  {
   "cell_type": "code",
   "execution_count": 5,
   "id": "eb27afe8",
   "metadata": {},
   "outputs": [
    {
     "data": {
      "text/html": [
       "<div>\n",
       "<style scoped>\n",
       "    .dataframe tbody tr th:only-of-type {\n",
       "        vertical-align: middle;\n",
       "    }\n",
       "\n",
       "    .dataframe tbody tr th {\n",
       "        vertical-align: top;\n",
       "    }\n",
       "\n",
       "    .dataframe thead th {\n",
       "        text-align: right;\n",
       "    }\n",
       "</style>\n",
       "<table border=\"1\" class=\"dataframe\">\n",
       "  <thead>\n",
       "    <tr style=\"text-align: right;\">\n",
       "      <th></th>\n",
       "      <th>CustomerId</th>\n",
       "      <th>Profit</th>\n",
       "      <th>Recency</th>\n",
       "      <th>Frequency</th>\n",
       "      <th>Monetary</th>\n",
       "      <th>Variance</th>\n",
       "    </tr>\n",
       "  </thead>\n",
       "  <tbody>\n",
       "    <tr>\n",
       "      <th>count</th>\n",
       "      <td>1511.000000</td>\n",
       "      <td>1511.000000</td>\n",
       "      <td>1511.000000</td>\n",
       "      <td>1511.000000</td>\n",
       "      <td>1.511000e+03</td>\n",
       "      <td>1511.000000</td>\n",
       "    </tr>\n",
       "    <tr>\n",
       "      <th>mean</th>\n",
       "      <td>756.000000</td>\n",
       "      <td>1102.391132</td>\n",
       "      <td>15.847121</td>\n",
       "      <td>10.710126</td>\n",
       "      <td>1.753805e+05</td>\n",
       "      <td>16.673064</td>\n",
       "    </tr>\n",
       "    <tr>\n",
       "      <th>std</th>\n",
       "      <td>436.332442</td>\n",
       "      <td>5457.675137</td>\n",
       "      <td>19.051823</td>\n",
       "      <td>10.348786</td>\n",
       "      <td>1.791089e+06</td>\n",
       "      <td>17.704351</td>\n",
       "    </tr>\n",
       "    <tr>\n",
       "      <th>min</th>\n",
       "      <td>1.000000</td>\n",
       "      <td>1.000000</td>\n",
       "      <td>1.000000</td>\n",
       "      <td>1.000000</td>\n",
       "      <td>7.290000e+00</td>\n",
       "      <td>1.000000</td>\n",
       "    </tr>\n",
       "    <tr>\n",
       "      <th>25%</th>\n",
       "      <td>378.500000</td>\n",
       "      <td>79.000000</td>\n",
       "      <td>4.000000</td>\n",
       "      <td>3.000000</td>\n",
       "      <td>1.392950e+03</td>\n",
       "      <td>5.000000</td>\n",
       "    </tr>\n",
       "    <tr>\n",
       "      <th>50%</th>\n",
       "      <td>756.000000</td>\n",
       "      <td>224.000000</td>\n",
       "      <td>6.000000</td>\n",
       "      <td>9.000000</td>\n",
       "      <td>5.799930e+03</td>\n",
       "      <td>11.000000</td>\n",
       "    </tr>\n",
       "    <tr>\n",
       "      <th>75%</th>\n",
       "      <td>1133.500000</td>\n",
       "      <td>559.500000</td>\n",
       "      <td>19.000000</td>\n",
       "      <td>14.500000</td>\n",
       "      <td>2.228900e+04</td>\n",
       "      <td>23.000000</td>\n",
       "    </tr>\n",
       "    <tr>\n",
       "      <th>max</th>\n",
       "      <td>1511.000000</td>\n",
       "      <td>105993.000000</td>\n",
       "      <td>91.000000</td>\n",
       "      <td>79.000000</td>\n",
       "      <td>3.253994e+07</td>\n",
       "      <td>139.000000</td>\n",
       "    </tr>\n",
       "  </tbody>\n",
       "</table>\n",
       "</div>"
      ],
      "text/plain": [
       "        CustomerId         Profit      Recency    Frequency      Monetary  \\\n",
       "count  1511.000000    1511.000000  1511.000000  1511.000000  1.511000e+03   \n",
       "mean    756.000000    1102.391132    15.847121    10.710126  1.753805e+05   \n",
       "std     436.332442    5457.675137    19.051823    10.348786  1.791089e+06   \n",
       "min       1.000000       1.000000     1.000000     1.000000  7.290000e+00   \n",
       "25%     378.500000      79.000000     4.000000     3.000000  1.392950e+03   \n",
       "50%     756.000000     224.000000     6.000000     9.000000  5.799930e+03   \n",
       "75%    1133.500000     559.500000    19.000000    14.500000  2.228900e+04   \n",
       "max    1511.000000  105993.000000    91.000000    79.000000  3.253994e+07   \n",
       "\n",
       "          Variance  \n",
       "count  1511.000000  \n",
       "mean     16.673064  \n",
       "std      17.704351  \n",
       "min       1.000000  \n",
       "25%       5.000000  \n",
       "50%      11.000000  \n",
       "75%      23.000000  \n",
       "max     139.000000  "
      ]
     },
     "execution_count": 5,
     "metadata": {},
     "output_type": "execute_result"
    }
   ],
   "source": [
    "data.describe()"
   ]
  },
  {
   "cell_type": "code",
   "execution_count": 6,
   "id": "6e5ea3bc",
   "metadata": {},
   "outputs": [
    {
     "data": {
      "text/plain": [
       "CustomerId      int64\n",
       "Profit          int64\n",
       "Recency         int64\n",
       "Frequency       int64\n",
       "Monetary      float64\n",
       "Variance        int64\n",
       "dtype: object"
      ]
     },
     "execution_count": 6,
     "metadata": {},
     "output_type": "execute_result"
    }
   ],
   "source": [
    "data.dtypes"
   ]
  },
  {
   "cell_type": "code",
   "execution_count": 7,
   "id": "91bf6351",
   "metadata": {},
   "outputs": [
    {
     "data": {
      "text/plain": [
       "CustomerId    0\n",
       "Profit        0\n",
       "Recency       0\n",
       "Frequency     0\n",
       "Monetary      0\n",
       "Variance      0\n",
       "dtype: int64"
      ]
     },
     "execution_count": 7,
     "metadata": {},
     "output_type": "execute_result"
    }
   ],
   "source": [
    "data.isnull().sum()"
   ]
  },
  {
   "cell_type": "code",
   "execution_count": 8,
   "id": "df43d022",
   "metadata": {},
   "outputs": [],
   "source": [
    "customerID = data['CustomerId']"
   ]
  },
  {
   "cell_type": "code",
   "execution_count": 9,
   "id": "716c8504",
   "metadata": {},
   "outputs": [],
   "source": [
    "data.drop(['CustomerId'], axis=1, inplace=True)"
   ]
  },
  {
   "cell_type": "code",
   "execution_count": 10,
   "id": "a372edd0",
   "metadata": {},
   "outputs": [
    {
     "data": {
      "text/html": [
       "<div>\n",
       "<style scoped>\n",
       "    .dataframe tbody tr th:only-of-type {\n",
       "        vertical-align: middle;\n",
       "    }\n",
       "\n",
       "    .dataframe tbody tr th {\n",
       "        vertical-align: top;\n",
       "    }\n",
       "\n",
       "    .dataframe thead th {\n",
       "        text-align: right;\n",
       "    }\n",
       "</style>\n",
       "<table border=\"1\" class=\"dataframe\">\n",
       "  <thead>\n",
       "    <tr style=\"text-align: right;\">\n",
       "      <th></th>\n",
       "      <th>Profit</th>\n",
       "      <th>Recency</th>\n",
       "      <th>Frequency</th>\n",
       "      <th>Monetary</th>\n",
       "      <th>Variance</th>\n",
       "    </tr>\n",
       "  </thead>\n",
       "  <tbody>\n",
       "    <tr>\n",
       "      <th>0</th>\n",
       "      <td>187</td>\n",
       "      <td>63</td>\n",
       "      <td>1</td>\n",
       "      <td>2349.06</td>\n",
       "      <td>2</td>\n",
       "    </tr>\n",
       "    <tr>\n",
       "      <th>1</th>\n",
       "      <td>96</td>\n",
       "      <td>10</td>\n",
       "      <td>6</td>\n",
       "      <td>922.62</td>\n",
       "      <td>4</td>\n",
       "    </tr>\n",
       "    <tr>\n",
       "      <th>2</th>\n",
       "      <td>47</td>\n",
       "      <td>35</td>\n",
       "      <td>4</td>\n",
       "      <td>881.22</td>\n",
       "      <td>3</td>\n",
       "    </tr>\n",
       "    <tr>\n",
       "      <th>3</th>\n",
       "      <td>294</td>\n",
       "      <td>5</td>\n",
       "      <td>1</td>\n",
       "      <td>3815.16</td>\n",
       "      <td>2</td>\n",
       "    </tr>\n",
       "    <tr>\n",
       "      <th>4</th>\n",
       "      <td>732</td>\n",
       "      <td>4</td>\n",
       "      <td>31</td>\n",
       "      <td>41868.11</td>\n",
       "      <td>29</td>\n",
       "    </tr>\n",
       "  </tbody>\n",
       "</table>\n",
       "</div>"
      ],
      "text/plain": [
       "   Profit  Recency  Frequency  Monetary  Variance\n",
       "0     187       63          1   2349.06         2\n",
       "1      96       10          6    922.62         4\n",
       "2      47       35          4    881.22         3\n",
       "3     294        5          1   3815.16         2\n",
       "4     732        4         31  41868.11        29"
      ]
     },
     "execution_count": 10,
     "metadata": {},
     "output_type": "execute_result"
    }
   ],
   "source": [
    "data.head()"
   ]
  },
  {
   "cell_type": "code",
   "execution_count": 11,
   "id": "d0150cd1",
   "metadata": {},
   "outputs": [
    {
     "data": {
      "text/plain": [
       "<seaborn.axisgrid.FacetGrid at 0x7faaa80e9910>"
      ]
     },
     "execution_count": 11,
     "metadata": {},
     "output_type": "execute_result"
    },
    {
     "data": {
      "image/png": "[encoded data removed]",
      "text/plain": [
       "<Figure size 360x360 with 1 Axes>"
      ]
     },
     "metadata": {
      "needs_background": "light"
     },
     "output_type": "display_data"
    }
   ],
   "source": [
    "sns.displot(data['Recency'])"
   ]
  },
  {
   "cell_type": "markdown",
   "id": "ce5893f3",
   "metadata": {},
   "source": [
    "# Dimension reduce "
   ]
  },
  {
   "cell_type": "code",
   "execution_count": 12,
   "id": "fc90a7af",
   "metadata": {},
   "outputs": [],
   "source": [
    "RFM_scores = data[['Recency','Frequency','Monetary']].copy()"
   ]
  },
  {
   "cell_type": "code",
   "execution_count": 13,
   "id": "6b3a1491",
   "metadata": {},
   "outputs": [
    {
     "data": {
      "text/plain": [
       "{'Recency': {0.25: 4.0, 0.5: 6.0, 0.75: 19.0},\n",
       " 'Frequency': {0.25: 3.0, 0.5: 9.0, 0.75: 14.5},\n",
       " 'Monetary': {0.25: 1392.95, 0.5: 5799.93, 0.75: 22289.0}}"
      ]
     },
     "execution_count": 13,
     "metadata": {},
     "output_type": "execute_result"
    }
   ],
   "source": [
    "quantiles = RFM_scores.quantile(q=[0.25,0.5,0.75])\n",
    "quantiles = quantiles.to_dict()\n",
    "quantiles\n"
   ]
  },
  {
   "cell_type": "code",
   "execution_count": 14,
   "id": "044d56bd",
   "metadata": {},
   "outputs": [],
   "source": [
    "def Rscoring(x,p,d):\n",
    "    if x <= d[p][0.25]:\n",
    "        return 4 \n",
    "    elif x <= d[p][0.50]:\n",
    "        return 3\n",
    "    elif x <= d[p][0.75]:\n",
    "        return 2\n",
    "    else:\n",
    "        return 1\n",
    "    \n",
    "def FMscoring(x,p,d):\n",
    "    if x <= d[p][0.25]:\n",
    "        return 1 \n",
    "    elif x <= d[p][0.50]:\n",
    "        return 2\n",
    "    elif x <= d[p][0.75]:\n",
    "        return 3\n",
    "    else:\n",
    "        return 4"
   ]
  },
  {
   "cell_type": "code",
   "execution_count": 15,
   "id": "a615ec25",
   "metadata": {},
   "outputs": [],
   "source": [
    "RFM_scores['R'] = RFM_scores['Recency'].apply(Rscoring, args = ('Recency', quantiles)) \n",
    "RFM_scores['F'] = RFM_scores['Frequency'].apply(FMscoring, args = ('Frequency', quantiles))\n",
    "RFM_scores['M'] = RFM_scores['Monetary'].apply(FMscoring, args = ('Monetary', quantiles))"
   ]
  },
  {
   "cell_type": "code",
   "execution_count": 16,
   "id": "184b2e68",
   "metadata": {},
   "outputs": [
    {
     "data": {
      "text/html": [
       "<div>\n",
       "<style scoped>\n",
       "    .dataframe tbody tr th:only-of-type {\n",
       "        vertical-align: middle;\n",
       "    }\n",
       "\n",
       "    .dataframe tbody tr th {\n",
       "        vertical-align: top;\n",
       "    }\n",
       "\n",
       "    .dataframe thead th {\n",
       "        text-align: right;\n",
       "    }\n",
       "</style>\n",
       "<table border=\"1\" class=\"dataframe\">\n",
       "  <thead>\n",
       "    <tr style=\"text-align: right;\">\n",
       "      <th></th>\n",
       "      <th>Recency</th>\n",
       "      <th>Frequency</th>\n",
       "      <th>Monetary</th>\n",
       "      <th>R</th>\n",
       "      <th>F</th>\n",
       "      <th>M</th>\n",
       "    </tr>\n",
       "  </thead>\n",
       "  <tbody>\n",
       "    <tr>\n",
       "      <th>0</th>\n",
       "      <td>63</td>\n",
       "      <td>1</td>\n",
       "      <td>2349.06</td>\n",
       "      <td>1</td>\n",
       "      <td>1</td>\n",
       "      <td>2</td>\n",
       "    </tr>\n",
       "    <tr>\n",
       "      <th>1</th>\n",
       "      <td>10</td>\n",
       "      <td>6</td>\n",
       "      <td>922.62</td>\n",
       "      <td>2</td>\n",
       "      <td>2</td>\n",
       "      <td>1</td>\n",
       "    </tr>\n",
       "    <tr>\n",
       "      <th>2</th>\n",
       "      <td>35</td>\n",
       "      <td>4</td>\n",
       "      <td>881.22</td>\n",
       "      <td>1</td>\n",
       "      <td>2</td>\n",
       "      <td>1</td>\n",
       "    </tr>\n",
       "    <tr>\n",
       "      <th>3</th>\n",
       "      <td>5</td>\n",
       "      <td>1</td>\n",
       "      <td>3815.16</td>\n",
       "      <td>3</td>\n",
       "      <td>1</td>\n",
       "      <td>2</td>\n",
       "    </tr>\n",
       "    <tr>\n",
       "      <th>4</th>\n",
       "      <td>4</td>\n",
       "      <td>31</td>\n",
       "      <td>41868.11</td>\n",
       "      <td>4</td>\n",
       "      <td>4</td>\n",
       "      <td>4</td>\n",
       "    </tr>\n",
       "    <tr>\n",
       "      <th>...</th>\n",
       "      <td>...</td>\n",
       "      <td>...</td>\n",
       "      <td>...</td>\n",
       "      <td>...</td>\n",
       "      <td>...</td>\n",
       "      <td>...</td>\n",
       "    </tr>\n",
       "    <tr>\n",
       "      <th>1506</th>\n",
       "      <td>18</td>\n",
       "      <td>3</td>\n",
       "      <td>15798.92</td>\n",
       "      <td>2</td>\n",
       "      <td>1</td>\n",
       "      <td>3</td>\n",
       "    </tr>\n",
       "    <tr>\n",
       "      <th>1507</th>\n",
       "      <td>28</td>\n",
       "      <td>12</td>\n",
       "      <td>2676.89</td>\n",
       "      <td>1</td>\n",
       "      <td>3</td>\n",
       "      <td>2</td>\n",
       "    </tr>\n",
       "    <tr>\n",
       "      <th>1508</th>\n",
       "      <td>4</td>\n",
       "      <td>17</td>\n",
       "      <td>109497.54</td>\n",
       "      <td>4</td>\n",
       "      <td>4</td>\n",
       "      <td>4</td>\n",
       "    </tr>\n",
       "    <tr>\n",
       "      <th>1509</th>\n",
       "      <td>1</td>\n",
       "      <td>3</td>\n",
       "      <td>49602.45</td>\n",
       "      <td>4</td>\n",
       "      <td>1</td>\n",
       "      <td>4</td>\n",
       "    </tr>\n",
       "    <tr>\n",
       "      <th>1510</th>\n",
       "      <td>35</td>\n",
       "      <td>4</td>\n",
       "      <td>1047.58</td>\n",
       "      <td>1</td>\n",
       "      <td>2</td>\n",
       "      <td>1</td>\n",
       "    </tr>\n",
       "  </tbody>\n",
       "</table>\n",
       "<p>1511 rows × 6 columns</p>\n",
       "</div>"
      ],
      "text/plain": [
       "      Recency  Frequency   Monetary  R  F  M\n",
       "0          63          1    2349.06  1  1  2\n",
       "1          10          6     922.62  2  2  1\n",
       "2          35          4     881.22  1  2  1\n",
       "3           5          1    3815.16  3  1  2\n",
       "4           4         31   41868.11  4  4  4\n",
       "...       ...        ...        ... .. .. ..\n",
       "1506       18          3   15798.92  2  1  3\n",
       "1507       28         12    2676.89  1  3  2\n",
       "1508        4         17  109497.54  4  4  4\n",
       "1509        1          3   49602.45  4  1  4\n",
       "1510       35          4    1047.58  1  2  1\n",
       "\n",
       "[1511 rows x 6 columns]"
      ]
     },
     "execution_count": 16,
     "metadata": {},
     "output_type": "execute_result"
    }
   ],
   "source": [
    "RFM_scores"
   ]
  },
  {
   "cell_type": "code",
   "execution_count": 17,
   "id": "4d8cea3c",
   "metadata": {},
   "outputs": [],
   "source": [
    "RFM_scores['RFM_group']=RFM_scores.R.map(str)+RFM_scores.F.map(str)+RFM_scores.M.map(str)"
   ]
  },
  {
   "cell_type": "code",
   "execution_count": 18,
   "id": "c57e03bf",
   "metadata": {},
   "outputs": [],
   "source": [
    "RFM_scores['RFM_score'] = RFM_scores[['R','F','M']].sum(axis=1)"
   ]
  },
  {
   "cell_type": "code",
   "execution_count": 19,
   "id": "61911bb1",
   "metadata": {},
   "outputs": [
    {
     "data": {
      "text/html": [
       "<div>\n",
       "<style scoped>\n",
       "    .dataframe tbody tr th:only-of-type {\n",
       "        vertical-align: middle;\n",
       "    }\n",
       "\n",
       "    .dataframe tbody tr th {\n",
       "        vertical-align: top;\n",
       "    }\n",
       "\n",
       "    .dataframe thead th {\n",
       "        text-align: right;\n",
       "    }\n",
       "</style>\n",
       "<table border=\"1\" class=\"dataframe\">\n",
       "  <thead>\n",
       "    <tr style=\"text-align: right;\">\n",
       "      <th></th>\n",
       "      <th>Recency</th>\n",
       "      <th>Frequency</th>\n",
       "      <th>Monetary</th>\n",
       "      <th>R</th>\n",
       "      <th>F</th>\n",
       "      <th>M</th>\n",
       "      <th>RFM_group</th>\n",
       "      <th>RFM_score</th>\n",
       "    </tr>\n",
       "  </thead>\n",
       "  <tbody>\n",
       "    <tr>\n",
       "      <th>0</th>\n",
       "      <td>63</td>\n",
       "      <td>1</td>\n",
       "      <td>2349.06</td>\n",
       "      <td>1</td>\n",
       "      <td>1</td>\n",
       "      <td>2</td>\n",
       "      <td>112</td>\n",
       "      <td>4</td>\n",
       "    </tr>\n",
       "    <tr>\n",
       "      <th>1</th>\n",
       "      <td>10</td>\n",
       "      <td>6</td>\n",
       "      <td>922.62</td>\n",
       "      <td>2</td>\n",
       "      <td>2</td>\n",
       "      <td>1</td>\n",
       "      <td>221</td>\n",
       "      <td>5</td>\n",
       "    </tr>\n",
       "    <tr>\n",
       "      <th>2</th>\n",
       "      <td>35</td>\n",
       "      <td>4</td>\n",
       "      <td>881.22</td>\n",
       "      <td>1</td>\n",
       "      <td>2</td>\n",
       "      <td>1</td>\n",
       "      <td>121</td>\n",
       "      <td>4</td>\n",
       "    </tr>\n",
       "    <tr>\n",
       "      <th>3</th>\n",
       "      <td>5</td>\n",
       "      <td>1</td>\n",
       "      <td>3815.16</td>\n",
       "      <td>3</td>\n",
       "      <td>1</td>\n",
       "      <td>2</td>\n",
       "      <td>312</td>\n",
       "      <td>6</td>\n",
       "    </tr>\n",
       "    <tr>\n",
       "      <th>4</th>\n",
       "      <td>4</td>\n",
       "      <td>31</td>\n",
       "      <td>41868.11</td>\n",
       "      <td>4</td>\n",
       "      <td>4</td>\n",
       "      <td>4</td>\n",
       "      <td>444</td>\n",
       "      <td>12</td>\n",
       "    </tr>\n",
       "  </tbody>\n",
       "</table>\n",
       "</div>"
      ],
      "text/plain": [
       "   Recency  Frequency  Monetary  R  F  M RFM_group  RFM_score\n",
       "0       63          1   2349.06  1  1  2       112          4\n",
       "1       10          6    922.62  2  2  1       221          5\n",
       "2       35          4    881.22  1  2  1       121          4\n",
       "3        5          1   3815.16  3  1  2       312          6\n",
       "4        4         31  41868.11  4  4  4       444         12"
      ]
     },
     "execution_count": 19,
     "metadata": {},
     "output_type": "execute_result"
    }
   ],
   "source": [
    "RFM_scores.head()"
   ]
  },
  {
   "cell_type": "code",
   "execution_count": null,
   "id": "189de24e",
   "metadata": {},
   "outputs": [],
   "source": [
    "#Redukuje wymiary określająć parametr RFM_score, dzięki temu będę mógł wykluczyć osobne parametry Recency, Frequency, Monetary"
   ]
  },
  {
   "cell_type": "code",
   "execution_count": 20,
   "id": "03dcabf1",
   "metadata": {},
   "outputs": [],
   "source": [
    "data_analysis = data[['Profit','Variance']].copy()"
   ]
  },
  {
   "cell_type": "code",
   "execution_count": 21,
   "id": "0d8e7dc6",
   "metadata": {},
   "outputs": [],
   "source": [
    "data_analysis['RFM_score'] = RFM_scores[['RFM_score']].copy()"
   ]
  },
  {
   "cell_type": "code",
   "execution_count": 22,
   "id": "45b2d6f1",
   "metadata": {},
   "outputs": [
    {
     "data": {
      "text/html": [
       "<div>\n",
       "<style scoped>\n",
       "    .dataframe tbody tr th:only-of-type {\n",
       "        vertical-align: middle;\n",
       "    }\n",
       "\n",
       "    .dataframe tbody tr th {\n",
       "        vertical-align: top;\n",
       "    }\n",
       "\n",
       "    .dataframe thead th {\n",
       "        text-align: right;\n",
       "    }\n",
       "</style>\n",
       "<table border=\"1\" class=\"dataframe\">\n",
       "  <thead>\n",
       "    <tr style=\"text-align: right;\">\n",
       "      <th></th>\n",
       "      <th>Profit</th>\n",
       "      <th>Variance</th>\n",
       "      <th>RFM_score</th>\n",
       "    </tr>\n",
       "  </thead>\n",
       "  <tbody>\n",
       "    <tr>\n",
       "      <th>Profit</th>\n",
       "      <td>1.000000</td>\n",
       "      <td>0.617295</td>\n",
       "      <td>0.227183</td>\n",
       "    </tr>\n",
       "    <tr>\n",
       "      <th>Variance</th>\n",
       "      <td>0.617295</td>\n",
       "      <td>1.000000</td>\n",
       "      <td>0.680433</td>\n",
       "    </tr>\n",
       "    <tr>\n",
       "      <th>RFM_score</th>\n",
       "      <td>0.227183</td>\n",
       "      <td>0.680433</td>\n",
       "      <td>1.000000</td>\n",
       "    </tr>\n",
       "  </tbody>\n",
       "</table>\n",
       "</div>"
      ],
      "text/plain": [
       "             Profit  Variance  RFM_score\n",
       "Profit     1.000000  0.617295   0.227183\n",
       "Variance   0.617295  1.000000   0.680433\n",
       "RFM_score  0.227183  0.680433   1.000000"
      ]
     },
     "execution_count": 22,
     "metadata": {},
     "output_type": "execute_result"
    }
   ],
   "source": [
    "data_analysis.corr()"
   ]
  },
  {
   "cell_type": "markdown",
   "id": "1aeca54c",
   "metadata": {},
   "source": [
    "# Number of groups detection\n"
   ]
  },
  {
   "cell_type": "code",
   "execution_count": 23,
   "id": "c9799cd6",
   "metadata": {},
   "outputs": [],
   "source": [
    "scaler = StandardScaler()\n",
    "data_std = scaler.fit_transform(data_analysis)"
   ]
  },
  {
   "cell_type": "code",
   "execution_count": 24,
   "id": "2d7b43fc",
   "metadata": {},
   "outputs": [],
   "source": [
    "hier_clust = linkage(data_std, method = 'ward')"
   ]
  },
  {
   "cell_type": "code",
   "execution_count": 25,
   "id": "b7f8b574",
   "metadata": {},
   "outputs": [
    {
     "data": {
      "image/png": "[encoded data removed]",
      "text/plain": [
       "<Figure size 864x648 with 1 Axes>"
      ]
     },
     "metadata": {
      "needs_background": "light"
     },
     "output_type": "display_data"
    }
   ],
   "source": [
    "plt.figure(figsize = (12,9))\n",
    "plt.title('Hierarchical Clustering Dendogram')\n",
    "plt.xlabel('Observations')\n",
    "plt.ylabel('Distance')\n",
    "dendrogram(hier_clust,truncate_mode='level', p=5,show_leaf_counts = False, no_labels = True)\n",
    "plt.show()"
   ]
  },
  {
   "cell_type": "code",
   "execution_count": 26,
   "id": "3f7b4ec0",
   "metadata": {},
   "outputs": [
    {
     "data": {
      "image/png": "[encoded data removed]",
      "text/plain": [
       "<Figure size 864x432 with 1 Axes>"
      ]
     },
     "metadata": {
      "needs_background": "light"
     },
     "output_type": "display_data"
    }
   ],
   "source": [
    "x = data_analysis.iloc[:,1:]\n",
    "wcss = []\n",
    "for k in list(range(1,11)):\n",
    "    kmeans = KMeans(n_clusters = k, init = 'k-means++',max_iter=500, random_state = 42)\n",
    "    kmeans.fit(x)\n",
    "    wcss.append(kmeans.inertia_)\n",
    "plt.figure(figsize=(12,6))\n",
    "plt.grid()\n",
    "plt.plot(range(1,11),wcss,linewidth =2, color = 'red', marker ='8')\n",
    "plt.xlabel('K Value')\n",
    "plt.ylabel('WCSS')\n",
    "plt.show()"
   ]
  },
  {
   "cell_type": "code",
   "execution_count": 27,
   "id": "f701a9ad",
   "metadata": {
    "scrolled": true
   },
   "outputs": [
    {
     "data": {
      "text/plain": [
       "[485189.70615486463,\n",
       " 186679.09282132573,\n",
       " 95714.97365452728,\n",
       " 50416.28876629591,\n",
       " 34003.14712884388,\n",
       " 24472.135635381044,\n",
       " 19875.6071019233,\n",
       " 15960.041960282773,\n",
       " 12761.96263760063,\n",
       " 10797.654257038183]"
      ]
     },
     "execution_count": 27,
     "metadata": {},
     "output_type": "execute_result"
    }
   ],
   "source": [
    "wcss"
   ]
  },
  {
   "cell_type": "code",
   "execution_count": null,
   "id": "dd4fe3b3",
   "metadata": {},
   "outputs": [],
   "source": [
    "#Najbardziej optymalnym podziałem, bedzie przypisanie klientów do trzech różnych grup."
   ]
  },
  {
   "cell_type": "markdown",
   "id": "fb0048f0",
   "metadata": {},
   "source": [
    "# Labels assigment"
   ]
  },
  {
   "cell_type": "code",
   "execution_count": 28,
   "id": "232a7080",
   "metadata": {},
   "outputs": [
    {
     "name": "stdout",
     "output_type": "stream",
     "text": [
      "[0 0 0 ... 1 1 0]\n"
     ]
    }
   ],
   "source": [
    "kmeans = KMeans(n_clusters =3)\n",
    "label = kmeans.fit_predict(data_std)\n",
    "print(label)"
   ]
  },
  {
   "cell_type": "code",
   "execution_count": 29,
   "id": "f7db9722",
   "metadata": {},
   "outputs": [
    {
     "data": {
      "text/plain": [
       "array([0, 0, 0, 0, 1, 0, 0, 0, 1, 1, 0, 2, 1, 1, 0, 0, 1, 0, 0, 0, 0, 0,\n",
       "       1, 0, 0, 1, 1, 0, 0, 0, 0, 0, 0, 0, 0, 0, 1, 1, 1, 0, 1, 2, 0, 0,\n",
       "       1, 1, 0, 1, 1, 0, 2, 1, 1, 1, 0, 1, 0, 1, 1, 0, 0, 1, 1, 0, 1, 0,\n",
       "       1, 1, 1, 1, 0, 0, 0, 1, 1, 1, 0, 1, 1, 1, 0, 1, 0, 1, 0, 0, 0, 0,\n",
       "       1, 1, 1, 0, 1, 0, 1, 0, 1, 0, 1, 1, 1, 1, 1, 0, 1, 0, 1, 0, 0, 1,\n",
       "       1, 1, 0, 1, 0, 1, 1, 0, 0, 0, 0, 1, 1, 0, 0, 0, 1, 0, 1, 1, 1, 1,\n",
       "       0, 0, 0, 1, 1, 1, 0, 1, 0, 1, 1, 0, 2, 0, 1, 1, 1, 0, 0, 0, 0, 1,\n",
       "       1, 0, 0, 0, 0, 0, 0, 0, 1, 0, 0, 0, 0, 0, 0, 0, 1, 0, 0, 0, 0, 0,\n",
       "       0, 0, 1, 0, 1, 1, 0, 0, 1, 1, 0, 1, 0, 0, 0, 1, 0, 0, 0, 1, 0, 1,\n",
       "       0, 0], dtype=int32)"
      ]
     },
     "execution_count": 29,
     "metadata": {},
     "output_type": "execute_result"
    }
   ],
   "source": [
    "label[:200]"
   ]
  },
  {
   "cell_type": "code",
   "execution_count": 30,
   "id": "ab16072f",
   "metadata": {},
   "outputs": [
    {
     "data": {
      "image/png": "[encoded data removed]",
      "text/plain": [
       "<Figure size 432x288 with 1 Axes>"
      ]
     },
     "metadata": {
      "needs_background": "light"
     },
     "output_type": "display_data"
    }
   ],
   "source": [
    "u_labels = np.unique(label)\n",
    "for i in u_labels:\n",
    "    plt.scatter(data_std[label == i,0], data_std[label ==i,1], label =i)\n",
    "plt.legend()\n",
    "plt.show()"
   ]
  },
  {
   "cell_type": "code",
   "execution_count": 31,
   "id": "1ab51067",
   "metadata": {},
   "outputs": [
    {
     "data": {
      "text/html": [
       "<div>\n",
       "<style scoped>\n",
       "    .dataframe tbody tr th:only-of-type {\n",
       "        vertical-align: middle;\n",
       "    }\n",
       "\n",
       "    .dataframe tbody tr th {\n",
       "        vertical-align: top;\n",
       "    }\n",
       "\n",
       "    .dataframe thead th {\n",
       "        text-align: right;\n",
       "    }\n",
       "</style>\n",
       "<table border=\"1\" class=\"dataframe\">\n",
       "  <thead>\n",
       "    <tr style=\"text-align: right;\">\n",
       "      <th></th>\n",
       "    </tr>\n",
       "  </thead>\n",
       "  <tbody>\n",
       "  </tbody>\n",
       "</table>\n",
       "</div>"
      ],
      "text/plain": [
       "Empty DataFrame\n",
       "Columns: []\n",
       "Index: []"
      ]
     },
     "execution_count": 31,
     "metadata": {},
     "output_type": "execute_result"
    }
   ],
   "source": [
    "results = pd.DataFrame()\n",
    "results.head()"
   ]
  },
  {
   "cell_type": "code",
   "execution_count": 32,
   "id": "70744144",
   "metadata": {},
   "outputs": [],
   "source": [
    "results['CustomerID'] = customerID"
   ]
  },
  {
   "cell_type": "code",
   "execution_count": 33,
   "id": "8a120769",
   "metadata": {},
   "outputs": [],
   "source": [
    "results['SegmentId'] = label"
   ]
  },
  {
   "cell_type": "code",
   "execution_count": 34,
   "id": "093cd008",
   "metadata": {},
   "outputs": [
    {
     "data": {
      "text/plain": [
       "0    827\n",
       "1    667\n",
       "2     17\n",
       "Name: SegmentId, dtype: int64"
      ]
     },
     "execution_count": 34,
     "metadata": {},
     "output_type": "execute_result"
    }
   ],
   "source": [
    "results['SegmentId'].value_counts()"
   ]
  },
  {
   "cell_type": "code",
   "execution_count": 35,
   "id": "e120e0b9",
   "metadata": {},
   "outputs": [
    {
     "data": {
      "text/html": [
       "<div>\n",
       "<style scoped>\n",
       "    .dataframe tbody tr th:only-of-type {\n",
       "        vertical-align: middle;\n",
       "    }\n",
       "\n",
       "    .dataframe tbody tr th {\n",
       "        vertical-align: top;\n",
       "    }\n",
       "\n",
       "    .dataframe thead th {\n",
       "        text-align: right;\n",
       "    }\n",
       "</style>\n",
       "<table border=\"1\" class=\"dataframe\">\n",
       "  <thead>\n",
       "    <tr style=\"text-align: right;\">\n",
       "      <th></th>\n",
       "      <th>CustomerID</th>\n",
       "      <th>SegmentId</th>\n",
       "    </tr>\n",
       "  </thead>\n",
       "  <tbody>\n",
       "    <tr>\n",
       "      <th>0</th>\n",
       "      <td>1</td>\n",
       "      <td>0</td>\n",
       "    </tr>\n",
       "    <tr>\n",
       "      <th>1</th>\n",
       "      <td>2</td>\n",
       "      <td>0</td>\n",
       "    </tr>\n",
       "    <tr>\n",
       "      <th>2</th>\n",
       "      <td>3</td>\n",
       "      <td>0</td>\n",
       "    </tr>\n",
       "    <tr>\n",
       "      <th>3</th>\n",
       "      <td>4</td>\n",
       "      <td>0</td>\n",
       "    </tr>\n",
       "    <tr>\n",
       "      <th>4</th>\n",
       "      <td>5</td>\n",
       "      <td>1</td>\n",
       "    </tr>\n",
       "    <tr>\n",
       "      <th>...</th>\n",
       "      <td>...</td>\n",
       "      <td>...</td>\n",
       "    </tr>\n",
       "    <tr>\n",
       "      <th>1506</th>\n",
       "      <td>1507</td>\n",
       "      <td>0</td>\n",
       "    </tr>\n",
       "    <tr>\n",
       "      <th>1507</th>\n",
       "      <td>1508</td>\n",
       "      <td>0</td>\n",
       "    </tr>\n",
       "    <tr>\n",
       "      <th>1508</th>\n",
       "      <td>1509</td>\n",
       "      <td>1</td>\n",
       "    </tr>\n",
       "    <tr>\n",
       "      <th>1509</th>\n",
       "      <td>1510</td>\n",
       "      <td>1</td>\n",
       "    </tr>\n",
       "    <tr>\n",
       "      <th>1510</th>\n",
       "      <td>1511</td>\n",
       "      <td>0</td>\n",
       "    </tr>\n",
       "  </tbody>\n",
       "</table>\n",
       "<p>1511 rows × 2 columns</p>\n",
       "</div>"
      ],
      "text/plain": [
       "      CustomerID  SegmentId\n",
       "0              1          0\n",
       "1              2          0\n",
       "2              3          0\n",
       "3              4          0\n",
       "4              5          1\n",
       "...          ...        ...\n",
       "1506        1507          0\n",
       "1507        1508          0\n",
       "1508        1509          1\n",
       "1509        1510          1\n",
       "1510        1511          0\n",
       "\n",
       "[1511 rows x 2 columns]"
      ]
     },
     "execution_count": 35,
     "metadata": {},
     "output_type": "execute_result"
    }
   ],
   "source": [
    "results"
   ]
  },
  {
   "cell_type": "code",
   "execution_count": 48,
   "id": "368616c4",
   "metadata": {},
   "outputs": [
    {
     "data": {
      "text/html": [
       "<div>\n",
       "<style scoped>\n",
       "    .dataframe tbody tr th:only-of-type {\n",
       "        vertical-align: middle;\n",
       "    }\n",
       "\n",
       "    .dataframe tbody tr th {\n",
       "        vertical-align: top;\n",
       "    }\n",
       "\n",
       "    .dataframe thead th {\n",
       "        text-align: right;\n",
       "    }\n",
       "</style>\n",
       "<table border=\"1\" class=\"dataframe\">\n",
       "  <thead>\n",
       "    <tr style=\"text-align: right;\">\n",
       "      <th></th>\n",
       "      <th>CustomerID</th>\n",
       "      <th>SegmentId</th>\n",
       "    </tr>\n",
       "  </thead>\n",
       "  <tbody>\n",
       "    <tr>\n",
       "      <th>count</th>\n",
       "      <td>1511.000000</td>\n",
       "      <td>1511.000000</td>\n",
       "    </tr>\n",
       "    <tr>\n",
       "      <th>mean</th>\n",
       "      <td>756.000000</td>\n",
       "      <td>0.463931</td>\n",
       "    </tr>\n",
       "    <tr>\n",
       "      <th>std</th>\n",
       "      <td>436.332442</td>\n",
       "      <td>0.520942</td>\n",
       "    </tr>\n",
       "    <tr>\n",
       "      <th>min</th>\n",
       "      <td>1.000000</td>\n",
       "      <td>0.000000</td>\n",
       "    </tr>\n",
       "    <tr>\n",
       "      <th>25%</th>\n",
       "      <td>378.500000</td>\n",
       "      <td>0.000000</td>\n",
       "    </tr>\n",
       "    <tr>\n",
       "      <th>50%</th>\n",
       "      <td>756.000000</td>\n",
       "      <td>0.000000</td>\n",
       "    </tr>\n",
       "    <tr>\n",
       "      <th>75%</th>\n",
       "      <td>1133.500000</td>\n",
       "      <td>1.000000</td>\n",
       "    </tr>\n",
       "    <tr>\n",
       "      <th>max</th>\n",
       "      <td>1511.000000</td>\n",
       "      <td>2.000000</td>\n",
       "    </tr>\n",
       "  </tbody>\n",
       "</table>\n",
       "</div>"
      ],
      "text/plain": [
       "        CustomerID    SegmentId\n",
       "count  1511.000000  1511.000000\n",
       "mean    756.000000     0.463931\n",
       "std     436.332442     0.520942\n",
       "min       1.000000     0.000000\n",
       "25%     378.500000     0.000000\n",
       "50%     756.000000     0.000000\n",
       "75%    1133.500000     1.000000\n",
       "max    1511.000000     2.000000"
      ]
     },
     "execution_count": 48,
     "metadata": {},
     "output_type": "execute_result"
    }
   ],
   "source": [
    "results.describe()"
   ]
  },
  {
   "cell_type": "code",
   "execution_count": 46,
   "id": "48c11c31",
   "metadata": {},
   "outputs": [
    {
     "data": {
      "text/plain": [
       "2     17\n",
       "1    667\n",
       "0    827\n",
       "Name: SegmentId, dtype: int64"
      ]
     },
     "execution_count": 46,
     "metadata": {},
     "output_type": "execute_result"
    }
   ],
   "source": [
    "results['SegmentId'].value_counts(ascending=True)"
   ]
  },
  {
   "cell_type": "code",
   "execution_count": 36,
   "id": "4ed98dcb",
   "metadata": {},
   "outputs": [],
   "source": [
    "data['SegmentId']=results['SegmentId']"
   ]
  },
  {
   "cell_type": "code",
   "execution_count": 38,
   "id": "83bf6e67",
   "metadata": {},
   "outputs": [],
   "source": [
    "data.to_csv('customers.csv')"
   ]
  },
  {
   "cell_type": "code",
   "execution_count": null,
   "id": "b07f29b2",
   "metadata": {},
   "outputs": [],
   "source": [
    "#Etykiety zostały przypisane klientom. Najbardziej wartościowym klientem jest podmiot z przypisaną etykieta '2'.\n",
    "#Ta grupa klientów stanowi tylko 1% z całego zbioru. "
   ]
  }
 ],
 "metadata": {
  "kernelspec": {
   "display_name": "Python 3",
   "language": "python",
   "name": "python3"
  },
  "language_info": {
   "codemirror_mode": {
    "name": "ipython",
    "version": 3
   },
   "file_extension": ".py",
   "mimetype": "text/x-python",
   "name": "python",
   "nbconvert_exporter": "python",
   "pygments_lexer": "ipython3",
   "version": "3.7.10"
  }
 },
 "nbformat": 4,
 "nbformat_minor": 5
}
